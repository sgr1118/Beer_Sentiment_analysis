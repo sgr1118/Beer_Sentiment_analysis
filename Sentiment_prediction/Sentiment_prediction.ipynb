{
 "cells": [
  {
   "cell_type": "code",
   "execution_count": 1,
   "metadata": {},
   "outputs": [
    {
     "name": "stderr",
     "output_type": "stream",
     "text": [
      "/home/beerlab/anaconda3/envs/beer_review/lib/python3.8/site-packages/tqdm/auto.py:21: TqdmWarning: IProgress not found. Please update jupyter and ipywidgets. See https://ipywidgets.readthedocs.io/en/stable/user_install.html\n",
      "  from .autonotebook import tqdm as notebook_tqdm\n"
     ]
    },
    {
     "name": "stdout",
     "output_type": "stream",
     "text": [
      "문장: I took a sip and immediately discarded it. How could a beer have such a strong cinnamon flavor?\n",
      "감정: Negative\n",
      "문장: The taste of this beer embodies the style description quite well.\n",
      "감정: Positive\n",
      "문장: This beer successfully captures the bitter aroma of coffee, and when you're about to finish a glass, there's a slight dominant sweetness that lingers in your mouth.\n",
      "감정: Positive\n"
     ]
    }
   ],
   "source": [
    "import torch\n",
    "from transformers import T5ForConditionalGeneration, T5Tokenizer\n",
    "import torch.nn.functional as F\n",
    "\n",
    "model_path = '/home/beerlab/outputs/simplet5-epoch-2-train-loss-0.0396-val-loss-0.053'\n",
    "model = T5ForConditionalGeneration.from_pretrained(model_path)\n",
    "tokenizer = T5Tokenizer.from_pretrained(model_path)\n",
    "\n",
    "def analyze_sentiment(sentence):\n",
    "    input_text = \"sentiment: \" + sentence\n",
    "    input_ids = tokenizer.encode(input_text, return_tensors='pt')\n",
    "    input_embeds = model.get_input_embeddings()(input_ids)\n",
    "\n",
    "    # T5 모델을 사용하여 감정 분석 수행\n",
    "    output = model.generate(input_ids=input_ids, decoder_inputs_embeds=input_embeds, max_length=200)\n",
    "    decoded_output = tokenizer.decode(output[0], skip_special_tokens=True)\n",
    "\n",
    "    # 확률을 얻기 위해 로짓 계산\n",
    "    logits = model(input_ids=input_ids, decoder_inputs_embeds=input_embeds).logits\n",
    "    probabilities = F.softmax(logits, dim=-1).squeeze()\n",
    "\n",
    "    sentiment = decoded_output\n",
    "    emotions = [\"Positive\", \"Negative\"]\n",
    "    emotion_probabilities = probabilities[0].tolist()  # 첫 번째 원소를 추출하여 확률값으로 사용\n",
    "    result = {\"sentiment\": sentiment, \"emotions\": dict(zip(emotions, emotion_probabilities))}\n",
    "    return result\n",
    "\n",
    "sentences = ['I took a sip and immediately discarded it. How could a beer have such a strong cinnamon flavor?',\n",
    "             'The taste of this beer embodies the style description quite well.',\n",
    "             \"This beer successfully captures the bitter aroma of coffee, and when you're about to finish a glass, there's a slight dominant sweetness that lingers in your mouth.\"]\n",
    "for sentence in sentences:\n",
    "    predicted_sentiment = analyze_sentiment(sentence)\n",
    "    print(\"문장:\", sentence)\n",
    "    print(\"감정:\", predicted_sentiment[\"sentiment\"])\n",
    "    # formatted_probabilities = {k: round(v, 4) for k, v in predicted_sentiment[\"emotions\"].items()}\n",
    "    # print(\"확률:\", formatted_probabilities)"
   ]
  }
 ],
 "metadata": {
  "kernelspec": {
   "display_name": "beer_review",
   "language": "python",
   "name": "python3"
  },
  "language_info": {
   "codemirror_mode": {
    "name": "ipython",
    "version": 3
   },
   "file_extension": ".py",
   "mimetype": "text/x-python",
   "name": "python",
   "nbconvert_exporter": "python",
   "pygments_lexer": "ipython3",
   "version": "3.8.16"
  },
  "orig_nbformat": 4
 },
 "nbformat": 4,
 "nbformat_minor": 2
}
