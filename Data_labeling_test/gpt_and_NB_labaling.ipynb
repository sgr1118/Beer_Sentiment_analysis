{
 "cells": [
  {
   "cell_type": "markdown",
   "id": "9f034756",
   "metadata": {},
   "source": [
    "### GPT API를 사용하여 감정 라벨링 시도"
   ]
  },
  {
   "cell_type": "code",
   "execution_count": 30,
   "id": "159416e2",
   "metadata": {},
   "outputs": [
    {
     "data": {
      "text/html": [
       "<div>\n",
       "<style scoped>\n",
       "    .dataframe tbody tr th:only-of-type {\n",
       "        vertical-align: middle;\n",
       "    }\n",
       "\n",
       "    .dataframe tbody tr th {\n",
       "        vertical-align: top;\n",
       "    }\n",
       "\n",
       "    .dataframe thead th {\n",
       "        text-align: right;\n",
       "    }\n",
       "</style>\n",
       "<table border=\"1\" class=\"dataframe\">\n",
       "  <thead>\n",
       "    <tr style=\"text-align: right;\">\n",
       "      <th></th>\n",
       "      <th>Rating</th>\n",
       "      <th>Review</th>\n",
       "      <th>Beer_name</th>\n",
       "      <th>label</th>\n",
       "    </tr>\n",
       "  </thead>\n",
       "  <tbody>\n",
       "    <tr>\n",
       "      <th>0</th>\n",
       "      <td>0.5</td>\n",
       "      <td>This is like Budlight but with slight corn tas...</td>\n",
       "      <td>Milwaukee's Best Light</td>\n",
       "      <td>Negative</td>\n",
       "    </tr>\n",
       "    <tr>\n",
       "      <th>1</th>\n",
       "      <td>1.0</td>\n",
       "      <td>Strong corn flavor. Highly carbonated and no h...</td>\n",
       "      <td>Milwaukee's Best Light</td>\n",
       "      <td>Negative</td>\n",
       "    </tr>\n",
       "    <tr>\n",
       "      <th>2</th>\n",
       "      <td>0.5</td>\n",
       "      <td>It just doesn't get worse than this. Brings me...</td>\n",
       "      <td>Milwaukee's Best Light</td>\n",
       "      <td>Negative</td>\n",
       "    </tr>\n",
       "    <tr>\n",
       "      <th>3</th>\n",
       "      <td>0.6</td>\n",
       "      <td>Beast Bleu. I shutter to think how  many cans ...</td>\n",
       "      <td>Milwaukee's Best Light</td>\n",
       "      <td>Negative</td>\n",
       "    </tr>\n",
       "    <tr>\n",
       "      <th>4</th>\n",
       "      <td>1.2</td>\n",
       "      <td>I wouldn't wish this beer on anyones glass.  T...</td>\n",
       "      <td>Milwaukee's Best Light</td>\n",
       "      <td>Negative</td>\n",
       "    </tr>\n",
       "    <tr>\n",
       "      <th>...</th>\n",
       "      <td>...</td>\n",
       "      <td>...</td>\n",
       "      <td>...</td>\n",
       "      <td>...</td>\n",
       "    </tr>\n",
       "    <tr>\n",
       "      <th>111920</th>\n",
       "      <td>0.8</td>\n",
       "      <td>This beer is nothing... no taste, no kick, no ...</td>\n",
       "      <td>Milwaukee's Best Light</td>\n",
       "      <td>Negative</td>\n",
       "    </tr>\n",
       "    <tr>\n",
       "      <th>111921</th>\n",
       "      <td>0.5</td>\n",
       "      <td>ABSOLUTELY DREADFUL!!  MY ROOMMATES USED TO BU...</td>\n",
       "      <td>Milwaukee's Best Light</td>\n",
       "      <td>Negative</td>\n",
       "    </tr>\n",
       "    <tr>\n",
       "      <th>111922</th>\n",
       "      <td>0.5</td>\n",
       "      <td>Well here is my third and final rating in the ...</td>\n",
       "      <td>Milwaukee's Best Light</td>\n",
       "      <td>Negative</td>\n",
       "    </tr>\n",
       "    <tr>\n",
       "      <th>111923</th>\n",
       "      <td>1.1</td>\n",
       "      <td>beast light... the staple of any good college ...</td>\n",
       "      <td>Milwaukee's Best Light</td>\n",
       "      <td>Negative</td>\n",
       "    </tr>\n",
       "    <tr>\n",
       "      <th>111924</th>\n",
       "      <td>0.8</td>\n",
       "      <td>CHemical.... High carbonated, almost no head, ...</td>\n",
       "      <td>Milwaukee's Best Light</td>\n",
       "      <td>Negative</td>\n",
       "    </tr>\n",
       "  </tbody>\n",
       "</table>\n",
       "<p>111925 rows × 4 columns</p>\n",
       "</div>"
      ],
      "text/plain": [
       "        Rating                                             Review  \\\n",
       "0          0.5  This is like Budlight but with slight corn tas...   \n",
       "1          1.0  Strong corn flavor. Highly carbonated and no h...   \n",
       "2          0.5  It just doesn't get worse than this. Brings me...   \n",
       "3          0.6  Beast Bleu. I shutter to think how  many cans ...   \n",
       "4          1.2  I wouldn't wish this beer on anyones glass.  T...   \n",
       "...        ...                                                ...   \n",
       "111920     0.8  This beer is nothing... no taste, no kick, no ...   \n",
       "111921     0.5  ABSOLUTELY DREADFUL!!  MY ROOMMATES USED TO BU...   \n",
       "111922     0.5  Well here is my third and final rating in the ...   \n",
       "111923     1.1  beast light... the staple of any good college ...   \n",
       "111924     0.8  CHemical.... High carbonated, almost no head, ...   \n",
       "\n",
       "                     Beer_name     label  \n",
       "0       Milwaukee's Best Light  Negative  \n",
       "1       Milwaukee's Best Light  Negative  \n",
       "2       Milwaukee's Best Light  Negative  \n",
       "3       Milwaukee's Best Light  Negative  \n",
       "4       Milwaukee's Best Light  Negative  \n",
       "...                        ...       ...  \n",
       "111920  Milwaukee's Best Light  Negative  \n",
       "111921  Milwaukee's Best Light  Negative  \n",
       "111922  Milwaukee's Best Light  Negative  \n",
       "111923  Milwaukee's Best Light  Negative  \n",
       "111924  Milwaukee's Best Light  Negative  \n",
       "\n",
       "[111925 rows x 4 columns]"
      ]
     },
     "execution_count": 30,
     "metadata": {},
     "output_type": "execute_result"
    }
   ],
   "source": [
    "import pandas as pd\n",
    "df = pd.read_csv('beer_111925.csv')\n",
    "df"
   ]
  },
  {
   "cell_type": "code",
   "execution_count": 23,
   "id": "e32bd6fd",
   "metadata": {},
   "outputs": [],
   "source": [
    "# 중복값 제거\n",
    "df.drop_duplicates(subset='Review', inplace = True)"
   ]
  },
  {
   "cell_type": "code",
   "execution_count": 25,
   "id": "10b81e8f",
   "metadata": {},
   "outputs": [
    {
     "data": {
      "text/plain": [
       "111925"
      ]
     },
     "execution_count": 25,
     "metadata": {},
     "output_type": "execute_result"
    }
   ],
   "source": [
    "len(df)"
   ]
  },
  {
   "cell_type": "code",
   "execution_count": 14,
   "id": "520eb5b9",
   "metadata": {},
   "outputs": [],
   "source": [
    "beer_name = df['Beer_name'].value_counts()\n",
    "beer_name_list = beer_name.tolist()"
   ]
  },
  {
   "cell_type": "code",
   "execution_count": 84,
   "id": "9f02f97d",
   "metadata": {},
   "outputs": [],
   "source": [
    "df_sample = df.sample(n=4000) # 샘플링 4,000개 사용"
   ]
  },
  {
   "cell_type": "code",
   "execution_count": 85,
   "id": "67f19fc1",
   "metadata": {},
   "outputs": [
    {
     "data": {
      "text/plain": [
       "Negative    1966\n",
       "Positive    1317\n",
       "Neutral      717\n",
       "Name: label, dtype: int64"
      ]
     },
     "execution_count": 85,
     "metadata": {},
     "output_type": "execute_result"
    }
   ],
   "source": [
    "df_sample['label'].value_counts()"
   ]
  },
  {
   "cell_type": "code",
   "execution_count": 60,
   "id": "410e01d0",
   "metadata": {},
   "outputs": [
    {
     "name": "stdout",
     "output_type": "stream",
     "text": [
      "API key is valid\n"
     ]
    }
   ],
   "source": [
    "import openai\n",
    "\n",
    "openai.api_key = \"\"\n",
    "\n",
    "try:\n",
    "    models = openai.Model.list()\n",
    "    print(\"API key is valid\")\n",
    "except Exception as e:\n",
    "    print(\"API key is not valid:\", e)"
   ]
  },
  {
   "cell_type": "code",
   "execution_count": 61,
   "id": "0e175cf5",
   "metadata": {},
   "outputs": [],
   "source": [
    "# Review 데이터를 positive, neutral, negative로 라벨링하는 함수\n",
    "def label_review(review):\n",
    "    prompt = f\"Please classify the following review as positive, neutral, or negative.\\nReview: {review}\\nSentiment:\"\n",
    "    response = openai.Completion.create(\n",
    "        engine=\"text-davinci-002\",\n",
    "        prompt=prompt,\n",
    "        max_tokens=1,\n",
    "        n=1,\n",
    "        stop=None,\n",
    "        temperature=0.7,\n",
    "    )\n",
    "    sentiment = response.choices[0].text.strip().lower()\n",
    "    if sentiment == \"positive\":\n",
    "        return \"Positive\"\n",
    "    elif sentiment == \"negative\":\n",
    "        return \"Negative\"\n",
    "    else:\n",
    "        return \"Neutral\""
   ]
  },
  {
   "cell_type": "code",
   "execution_count": 62,
   "id": "04ccba30",
   "metadata": {},
   "outputs": [
    {
     "data": {
      "application/vnd.jupyter.widget-view+json": {
       "model_id": "81a4de4bcf934a60b2369f00422213a4",
       "version_major": 2,
       "version_minor": 0
      },
      "text/plain": [
       "Labeling Reviews:   0%|          | 0/1000 [00:00<?, ?it/s]"
      ]
     },
     "metadata": {},
     "output_type": "display_data"
    }
   ],
   "source": [
    "from tqdm.notebook import tqdm\n",
    "\n",
    "df['gpt_label'] = tqdm(df['Review'].apply(label_review), desc=\"Labeling Reviews\")"
   ]
  },
  {
   "cell_type": "code",
   "execution_count": 87,
   "id": "68adbd3c",
   "metadata": {},
   "outputs": [],
   "source": [
    "# df_sample.to_csv('gpt_labling_4000_v2.csv', index = False)"
   ]
  },
  {
   "cell_type": "code",
   "execution_count": 46,
   "id": "8d6cbb52",
   "metadata": {},
   "outputs": [
    {
     "data": {
      "text/html": [
       "<div>\n",
       "<style scoped>\n",
       "    .dataframe tbody tr th:only-of-type {\n",
       "        vertical-align: middle;\n",
       "    }\n",
       "\n",
       "    .dataframe tbody tr th {\n",
       "        vertical-align: top;\n",
       "    }\n",
       "\n",
       "    .dataframe thead th {\n",
       "        text-align: right;\n",
       "    }\n",
       "</style>\n",
       "<table border=\"1\" class=\"dataframe\">\n",
       "  <thead>\n",
       "    <tr style=\"text-align: right;\">\n",
       "      <th></th>\n",
       "      <th>Rating</th>\n",
       "      <th>Review</th>\n",
       "      <th>Beer_name</th>\n",
       "      <th>label</th>\n",
       "      <th>gpt_label</th>\n",
       "    </tr>\n",
       "  </thead>\n",
       "  <tbody>\n",
       "    <tr>\n",
       "      <th>0</th>\n",
       "      <td>4.7</td>\n",
       "      <td>Good god. How the hell is this a shelf beer? V...</td>\n",
       "      <td>AleSmith Speedway Stout</td>\n",
       "      <td>Negative</td>\n",
       "      <td>Positive</td>\n",
       "    </tr>\n",
       "    <tr>\n",
       "      <th>1</th>\n",
       "      <td>1.3</td>\n",
       "      <td>Looks like piss, but has a heavier taste than ...</td>\n",
       "      <td>Bud Ice</td>\n",
       "      <td>Negative</td>\n",
       "      <td>Negative</td>\n",
       "    </tr>\n",
       "    <tr>\n",
       "      <th>2</th>\n",
       "      <td>1.8</td>\n",
       "      <td>To watery, bitter...wouldn't suggest. This is ...</td>\n",
       "      <td>Heineken</td>\n",
       "      <td>Negative</td>\n",
       "      <td>Negative</td>\n",
       "    </tr>\n",
       "    <tr>\n",
       "      <th>3</th>\n",
       "      <td>1.0</td>\n",
       "      <td>On Tap. Poured a nice dark brown color with a ...</td>\n",
       "      <td>Guinness Draught</td>\n",
       "      <td>Negative</td>\n",
       "      <td>Negative</td>\n",
       "    </tr>\n",
       "    <tr>\n",
       "      <th>4</th>\n",
       "      <td>2.1</td>\n",
       "      <td>Easy going and efficient in its distribution o...</td>\n",
       "      <td>Kirin Ichiban</td>\n",
       "      <td>Neutral</td>\n",
       "      <td>Neutral</td>\n",
       "    </tr>\n",
       "    <tr>\n",
       "      <th>...</th>\n",
       "      <td>...</td>\n",
       "      <td>...</td>\n",
       "      <td>...</td>\n",
       "      <td>...</td>\n",
       "      <td>...</td>\n",
       "    </tr>\n",
       "    <tr>\n",
       "      <th>3995</th>\n",
       "      <td>3.8</td>\n",
       "      <td>yes, is till needed to taste this one. i taste...</td>\n",
       "      <td>Hoegaarden</td>\n",
       "      <td>Neutral</td>\n",
       "      <td>Positive</td>\n",
       "    </tr>\n",
       "    <tr>\n",
       "      <th>3996</th>\n",
       "      <td>1.6</td>\n",
       "      <td>Had this at a local all you can eat buffet.  N...</td>\n",
       "      <td>Tsingtao</td>\n",
       "      <td>Negative</td>\n",
       "      <td>Negative</td>\n",
       "    </tr>\n",
       "    <tr>\n",
       "      <th>3997</th>\n",
       "      <td>1.8</td>\n",
       "      <td>Pours a pale golden yellow color with a one fi...</td>\n",
       "      <td>Corona Light</td>\n",
       "      <td>Neutral</td>\n",
       "      <td>Negative</td>\n",
       "    </tr>\n",
       "    <tr>\n",
       "      <th>3998</th>\n",
       "      <td>3.7</td>\n",
       "      <td>Tall can.\\nCloudy yellow, with a thin white he...</td>\n",
       "      <td>Toppling Goliath King Sue</td>\n",
       "      <td>Positive</td>\n",
       "      <td>Positive</td>\n",
       "    </tr>\n",
       "    <tr>\n",
       "      <th>3999</th>\n",
       "      <td>3.7</td>\n",
       "      <td>Nice drinking weissbier. Cloudy yellow with wh...</td>\n",
       "      <td>Paulaner Hefe-Weissbier</td>\n",
       "      <td>Positive</td>\n",
       "      <td>Neutral</td>\n",
       "    </tr>\n",
       "  </tbody>\n",
       "</table>\n",
       "<p>4000 rows × 5 columns</p>\n",
       "</div>"
      ],
      "text/plain": [
       "      Rating                                             Review  \\\n",
       "0        4.7  Good god. How the hell is this a shelf beer? V...   \n",
       "1        1.3  Looks like piss, but has a heavier taste than ...   \n",
       "2        1.8  To watery, bitter...wouldn't suggest. This is ...   \n",
       "3        1.0  On Tap. Poured a nice dark brown color with a ...   \n",
       "4        2.1  Easy going and efficient in its distribution o...   \n",
       "...      ...                                                ...   \n",
       "3995     3.8  yes, is till needed to taste this one. i taste...   \n",
       "3996     1.6  Had this at a local all you can eat buffet.  N...   \n",
       "3997     1.8  Pours a pale golden yellow color with a one fi...   \n",
       "3998     3.7  Tall can.\\nCloudy yellow, with a thin white he...   \n",
       "3999     3.7  Nice drinking weissbier. Cloudy yellow with wh...   \n",
       "\n",
       "                      Beer_name     label gpt_label  \n",
       "0       AleSmith Speedway Stout  Negative  Positive  \n",
       "1                       Bud Ice  Negative  Negative  \n",
       "2                      Heineken  Negative  Negative  \n",
       "3              Guinness Draught  Negative  Negative  \n",
       "4                 Kirin Ichiban   Neutral   Neutral  \n",
       "...                         ...       ...       ...  \n",
       "3995                 Hoegaarden   Neutral  Positive  \n",
       "3996                   Tsingtao  Negative  Negative  \n",
       "3997               Corona Light   Neutral  Negative  \n",
       "3998  Toppling Goliath King Sue  Positive  Positive  \n",
       "3999    Paulaner Hefe-Weissbier  Positive   Neutral  \n",
       "\n",
       "[4000 rows x 5 columns]"
      ]
     },
     "execution_count": 46,
     "metadata": {},
     "output_type": "execute_result"
    }
   ],
   "source": [
    "import pandas as pd\n",
    "\n",
    "df_gpt = pd.read_csv('gpt_labling_4000_v2.csv')\n",
    "df_gpt"
   ]
  },
  {
   "cell_type": "code",
   "execution_count": 47,
   "id": "bf6a2ea4",
   "metadata": {},
   "outputs": [
    {
     "data": {
      "text/plain": [
       "3984"
      ]
     },
     "execution_count": 47,
     "metadata": {},
     "output_type": "execute_result"
    }
   ],
   "source": [
    "df_gpt.drop_duplicates(subset='Review', inplace = True)\n",
    "len(df_gpt)"
   ]
  },
  {
   "cell_type": "code",
   "execution_count": 48,
   "id": "d896f0f5",
   "metadata": {
    "scrolled": true
   },
   "outputs": [
    {
     "name": "stdout",
     "output_type": "stream",
     "text": [
      "Positive    1942\n",
      "Negative    1366\n",
      "Neutral      676\n",
      "Name: gpt_label, dtype: int64\n"
     ]
    }
   ],
   "source": [
    "# vader_labeling = df_test['result'].value_counts()\n",
    "gpt_labeling = df_gpt['gpt_label'].value_counts()\n",
    "\n",
    "# print(vader_labeling)\n",
    "print(gpt_labeling)"
   ]
  },
  {
   "cell_type": "code",
   "execution_count": 51,
   "id": "d58a7791",
   "metadata": {},
   "outputs": [],
   "source": [
    "df_gpt.rename(columns = {'gpt_label' : 'MultinomialNB_label'}, inplace = True)"
   ]
  },
  {
   "cell_type": "code",
   "execution_count": 31,
   "id": "9c7f3422",
   "metadata": {},
   "outputs": [
    {
     "data": {
      "text/plain": [
       "107941"
      ]
     },
     "execution_count": 31,
     "metadata": {},
     "output_type": "execute_result"
    }
   ],
   "source": [
    "# 원본에서 gpt sample을 제외하고 추출한다.\n",
    "# 이 데이터는 unlabeled_data이다.\n",
    "\n",
    "diff_df = df[~df['Review'].isin(df_gpt['Review'])]\n",
    "len(diff_df)"
   ]
  },
  {
   "cell_type": "code",
   "execution_count": 36,
   "id": "d420aa0f",
   "metadata": {},
   "outputs": [
    {
     "name": "stderr",
     "output_type": "stream",
     "text": [
      "C:\\Users\\weon3\\anaconda3\\lib\\site-packages\\sklearn\\semi_supervised\\_self_training.py:210: UserWarning: y contains no unlabeled samples\n",
      "  warnings.warn(\"y contains no unlabeled samples\", UserWarning)\n",
      "C:\\Users\\weon3\\AppData\\Local\\Temp\\ipykernel_6184\\473953701.py:28: SettingWithCopyWarning: \n",
      "A value is trying to be set on a copy of a slice from a DataFrame.\n",
      "Try using .loc[row_indexer,col_indexer] = value instead\n",
      "\n",
      "See the caveats in the documentation: https://pandas.pydata.org/pandas-docs/stable/user_guide/indexing.html#returning-a-view-versus-a-copy\n",
      "  unlabeled_data['MultinomialNB_label'] = predicted_labels\n"
     ]
    }
   ],
   "source": [
    "from sklearn.feature_extraction.text import TfidfVectorizer\n",
    "from sklearn.naive_bayes import MultinomialNB\n",
    "from sklearn.semi_supervised import SelfTrainingClassifier\n",
    "\n",
    "# 데이터셋 로드\n",
    "unlabeled_data = diff_df\n",
    "\n",
    "# 라벨링이 된 데이터셋 로드\n",
    "labeled_data = df_gpt\n",
    "\n",
    "# TF-IDF 벡터화\n",
    "vectorizer = TfidfVectorizer()\n",
    "X_train = vectorizer.fit_transform(labeled_data['Review'])\n",
    "y_train = labeled_data['gpt_label']\n",
    "\n",
    "# Naive Bayes 모델 정의\n",
    "model = MultinomialNB(alpha=0.1)\n",
    "\n",
    "# Self-training 방법으로 모델 학습\n",
    "self_training_model = SelfTrainingClassifier(model, max_iter=1000)\n",
    "self_training_model.fit(X_train, y_train)\n",
    "\n",
    "# 자동 라벨링을 위한 데이터셋 벡터화\n",
    "X_unlabeled = vectorizer.transform(unlabeled_data['Review'])\n",
    "\n",
    "# 모델이 높은 확률로 예측한 샘플에 대해 자동으로 라벨 부여\n",
    "predicted_labels = self_training_model.predict(X_unlabeled)\n",
    "unlabeled_data['MultinomialNB_label'] = predicted_labels"
   ]
  },
  {
   "cell_type": "code",
   "execution_count": 37,
   "id": "994e7006",
   "metadata": {
    "scrolled": true
   },
   "outputs": [
    {
     "name": "stdout",
     "output_type": "stream",
     "text": [
      "Positive    64021\n",
      "Negative    40520\n",
      "Neutral      3400\n",
      "Name: MultinomialNB_label, dtype: int64\n",
      "107941\n"
     ]
    }
   ],
   "source": [
    "print(unlabeled_data['MultinomialNB_label'].value_counts())\n",
    "print(len(unlabeled_data))"
   ]
  },
  {
   "cell_type": "code",
   "execution_count": 52,
   "id": "04d91a5c",
   "metadata": {},
   "outputs": [
    {
     "data": {
      "text/html": [
       "<div>\n",
       "<style scoped>\n",
       "    .dataframe tbody tr th:only-of-type {\n",
       "        vertical-align: middle;\n",
       "    }\n",
       "\n",
       "    .dataframe tbody tr th {\n",
       "        vertical-align: top;\n",
       "    }\n",
       "\n",
       "    .dataframe thead th {\n",
       "        text-align: right;\n",
       "    }\n",
       "</style>\n",
       "<table border=\"1\" class=\"dataframe\">\n",
       "  <thead>\n",
       "    <tr style=\"text-align: right;\">\n",
       "      <th></th>\n",
       "      <th>Rating</th>\n",
       "      <th>Review</th>\n",
       "      <th>Beer_name</th>\n",
       "      <th>label</th>\n",
       "      <th>MultinomialNB_label</th>\n",
       "    </tr>\n",
       "  </thead>\n",
       "  <tbody>\n",
       "    <tr>\n",
       "      <th>0</th>\n",
       "      <td>4.7</td>\n",
       "      <td>Good god. How the hell is this a shelf beer? V...</td>\n",
       "      <td>AleSmith Speedway Stout</td>\n",
       "      <td>Negative</td>\n",
       "      <td>Positive</td>\n",
       "    </tr>\n",
       "    <tr>\n",
       "      <th>1</th>\n",
       "      <td>1.3</td>\n",
       "      <td>Looks like piss, but has a heavier taste than ...</td>\n",
       "      <td>Bud Ice</td>\n",
       "      <td>Negative</td>\n",
       "      <td>Negative</td>\n",
       "    </tr>\n",
       "    <tr>\n",
       "      <th>2</th>\n",
       "      <td>1.8</td>\n",
       "      <td>To watery, bitter...wouldn't suggest. This is ...</td>\n",
       "      <td>Heineken</td>\n",
       "      <td>Negative</td>\n",
       "      <td>Negative</td>\n",
       "    </tr>\n",
       "    <tr>\n",
       "      <th>3</th>\n",
       "      <td>1.0</td>\n",
       "      <td>On Tap. Poured a nice dark brown color with a ...</td>\n",
       "      <td>Guinness Draught</td>\n",
       "      <td>Negative</td>\n",
       "      <td>Negative</td>\n",
       "    </tr>\n",
       "    <tr>\n",
       "      <th>4</th>\n",
       "      <td>2.1</td>\n",
       "      <td>Easy going and efficient in its distribution o...</td>\n",
       "      <td>Kirin Ichiban</td>\n",
       "      <td>Neutral</td>\n",
       "      <td>Neutral</td>\n",
       "    </tr>\n",
       "    <tr>\n",
       "      <th>...</th>\n",
       "      <td>...</td>\n",
       "      <td>...</td>\n",
       "      <td>...</td>\n",
       "      <td>...</td>\n",
       "      <td>...</td>\n",
       "    </tr>\n",
       "    <tr>\n",
       "      <th>3995</th>\n",
       "      <td>3.8</td>\n",
       "      <td>yes, is till needed to taste this one. i taste...</td>\n",
       "      <td>Hoegaarden</td>\n",
       "      <td>Neutral</td>\n",
       "      <td>Positive</td>\n",
       "    </tr>\n",
       "    <tr>\n",
       "      <th>3996</th>\n",
       "      <td>1.6</td>\n",
       "      <td>Had this at a local all you can eat buffet.  N...</td>\n",
       "      <td>Tsingtao</td>\n",
       "      <td>Negative</td>\n",
       "      <td>Negative</td>\n",
       "    </tr>\n",
       "    <tr>\n",
       "      <th>3997</th>\n",
       "      <td>1.8</td>\n",
       "      <td>Pours a pale golden yellow color with a one fi...</td>\n",
       "      <td>Corona Light</td>\n",
       "      <td>Neutral</td>\n",
       "      <td>Negative</td>\n",
       "    </tr>\n",
       "    <tr>\n",
       "      <th>3998</th>\n",
       "      <td>3.7</td>\n",
       "      <td>Tall can.\\nCloudy yellow, with a thin white he...</td>\n",
       "      <td>Toppling Goliath King Sue</td>\n",
       "      <td>Positive</td>\n",
       "      <td>Positive</td>\n",
       "    </tr>\n",
       "    <tr>\n",
       "      <th>3999</th>\n",
       "      <td>3.7</td>\n",
       "      <td>Nice drinking weissbier. Cloudy yellow with wh...</td>\n",
       "      <td>Paulaner Hefe-Weissbier</td>\n",
       "      <td>Positive</td>\n",
       "      <td>Neutral</td>\n",
       "    </tr>\n",
       "  </tbody>\n",
       "</table>\n",
       "<p>3984 rows × 5 columns</p>\n",
       "</div>"
      ],
      "text/plain": [
       "      Rating                                             Review  \\\n",
       "0        4.7  Good god. How the hell is this a shelf beer? V...   \n",
       "1        1.3  Looks like piss, but has a heavier taste than ...   \n",
       "2        1.8  To watery, bitter...wouldn't suggest. This is ...   \n",
       "3        1.0  On Tap. Poured a nice dark brown color with a ...   \n",
       "4        2.1  Easy going and efficient in its distribution o...   \n",
       "...      ...                                                ...   \n",
       "3995     3.8  yes, is till needed to taste this one. i taste...   \n",
       "3996     1.6  Had this at a local all you can eat buffet.  N...   \n",
       "3997     1.8  Pours a pale golden yellow color with a one fi...   \n",
       "3998     3.7  Tall can.\\nCloudy yellow, with a thin white he...   \n",
       "3999     3.7  Nice drinking weissbier. Cloudy yellow with wh...   \n",
       "\n",
       "                      Beer_name     label MultinomialNB_label  \n",
       "0       AleSmith Speedway Stout  Negative            Positive  \n",
       "1                       Bud Ice  Negative            Negative  \n",
       "2                      Heineken  Negative            Negative  \n",
       "3              Guinness Draught  Negative            Negative  \n",
       "4                 Kirin Ichiban   Neutral             Neutral  \n",
       "...                         ...       ...                 ...  \n",
       "3995                 Hoegaarden   Neutral            Positive  \n",
       "3996                   Tsingtao  Negative            Negative  \n",
       "3997               Corona Light   Neutral            Negative  \n",
       "3998  Toppling Goliath King Sue  Positive            Positive  \n",
       "3999    Paulaner Hefe-Weissbier  Positive             Neutral  \n",
       "\n",
       "[3984 rows x 5 columns]"
      ]
     },
     "execution_count": 52,
     "metadata": {},
     "output_type": "execute_result"
    }
   ],
   "source": [
    "df_gpt"
   ]
  },
  {
   "cell_type": "code",
   "execution_count": 53,
   "id": "c3684491",
   "metadata": {},
   "outputs": [
    {
     "name": "stdout",
     "output_type": "stream",
     "text": [
      "Positive    1942\n",
      "Negative    1366\n",
      "Neutral      676\n",
      "Name: MultinomialNB_label, dtype: int64\n"
     ]
    }
   ],
   "source": [
    "# vader_labeling = df_test['result'].value_counts()\n",
    "gpt_labeling = df_gpt['MultinomialNB_label'].value_counts()\n",
    "\n",
    "# print(vader_labeling)\n",
    "print(gpt_labeling)"
   ]
  },
  {
   "cell_type": "code",
   "execution_count": 45,
   "id": "bd4e71f8",
   "metadata": {},
   "outputs": [
    {
     "data": {
      "text/html": [
       "<div>\n",
       "<style scoped>\n",
       "    .dataframe tbody tr th:only-of-type {\n",
       "        vertical-align: middle;\n",
       "    }\n",
       "\n",
       "    .dataframe tbody tr th {\n",
       "        vertical-align: top;\n",
       "    }\n",
       "\n",
       "    .dataframe thead th {\n",
       "        text-align: right;\n",
       "    }\n",
       "</style>\n",
       "<table border=\"1\" class=\"dataframe\">\n",
       "  <thead>\n",
       "    <tr style=\"text-align: right;\">\n",
       "      <th></th>\n",
       "      <th>Rating</th>\n",
       "      <th>Review</th>\n",
       "      <th>Beer_name</th>\n",
       "      <th>label</th>\n",
       "      <th>MultinomialNB_label</th>\n",
       "    </tr>\n",
       "  </thead>\n",
       "  <tbody>\n",
       "    <tr>\n",
       "      <th>0</th>\n",
       "      <td>0.5</td>\n",
       "      <td>This is like Budlight but with slight corn tas...</td>\n",
       "      <td>Milwaukee's Best Light</td>\n",
       "      <td>Negative</td>\n",
       "      <td>Negative</td>\n",
       "    </tr>\n",
       "    <tr>\n",
       "      <th>1</th>\n",
       "      <td>1.0</td>\n",
       "      <td>Strong corn flavor. Highly carbonated and no h...</td>\n",
       "      <td>Milwaukee's Best Light</td>\n",
       "      <td>Negative</td>\n",
       "      <td>Negative</td>\n",
       "    </tr>\n",
       "    <tr>\n",
       "      <th>2</th>\n",
       "      <td>0.5</td>\n",
       "      <td>It just doesn't get worse than this. Brings me...</td>\n",
       "      <td>Milwaukee's Best Light</td>\n",
       "      <td>Negative</td>\n",
       "      <td>Negative</td>\n",
       "    </tr>\n",
       "    <tr>\n",
       "      <th>3</th>\n",
       "      <td>0.6</td>\n",
       "      <td>Beast Bleu. I shutter to think how  many cans ...</td>\n",
       "      <td>Milwaukee's Best Light</td>\n",
       "      <td>Negative</td>\n",
       "      <td>Negative</td>\n",
       "    </tr>\n",
       "    <tr>\n",
       "      <th>4</th>\n",
       "      <td>1.2</td>\n",
       "      <td>I wouldn't wish this beer on anyones glass.  T...</td>\n",
       "      <td>Milwaukee's Best Light</td>\n",
       "      <td>Negative</td>\n",
       "      <td>Negative</td>\n",
       "    </tr>\n",
       "    <tr>\n",
       "      <th>...</th>\n",
       "      <td>...</td>\n",
       "      <td>...</td>\n",
       "      <td>...</td>\n",
       "      <td>...</td>\n",
       "      <td>...</td>\n",
       "    </tr>\n",
       "    <tr>\n",
       "      <th>111920</th>\n",
       "      <td>0.8</td>\n",
       "      <td>This beer is nothing... no taste, no kick, no ...</td>\n",
       "      <td>Milwaukee's Best Light</td>\n",
       "      <td>Negative</td>\n",
       "      <td>Negative</td>\n",
       "    </tr>\n",
       "    <tr>\n",
       "      <th>111921</th>\n",
       "      <td>0.5</td>\n",
       "      <td>ABSOLUTELY DREADFUL!!  MY ROOMMATES USED TO BU...</td>\n",
       "      <td>Milwaukee's Best Light</td>\n",
       "      <td>Negative</td>\n",
       "      <td>Negative</td>\n",
       "    </tr>\n",
       "    <tr>\n",
       "      <th>111922</th>\n",
       "      <td>0.5</td>\n",
       "      <td>Well here is my third and final rating in the ...</td>\n",
       "      <td>Milwaukee's Best Light</td>\n",
       "      <td>Negative</td>\n",
       "      <td>Negative</td>\n",
       "    </tr>\n",
       "    <tr>\n",
       "      <th>111923</th>\n",
       "      <td>1.1</td>\n",
       "      <td>beast light... the staple of any good college ...</td>\n",
       "      <td>Milwaukee's Best Light</td>\n",
       "      <td>Negative</td>\n",
       "      <td>Negative</td>\n",
       "    </tr>\n",
       "    <tr>\n",
       "      <th>111924</th>\n",
       "      <td>0.8</td>\n",
       "      <td>CHemical.... High carbonated, almost no head, ...</td>\n",
       "      <td>Milwaukee's Best Light</td>\n",
       "      <td>Negative</td>\n",
       "      <td>Negative</td>\n",
       "    </tr>\n",
       "  </tbody>\n",
       "</table>\n",
       "<p>107941 rows × 5 columns</p>\n",
       "</div>"
      ],
      "text/plain": [
       "        Rating                                             Review  \\\n",
       "0          0.5  This is like Budlight but with slight corn tas...   \n",
       "1          1.0  Strong corn flavor. Highly carbonated and no h...   \n",
       "2          0.5  It just doesn't get worse than this. Brings me...   \n",
       "3          0.6  Beast Bleu. I shutter to think how  many cans ...   \n",
       "4          1.2  I wouldn't wish this beer on anyones glass.  T...   \n",
       "...        ...                                                ...   \n",
       "111920     0.8  This beer is nothing... no taste, no kick, no ...   \n",
       "111921     0.5  ABSOLUTELY DREADFUL!!  MY ROOMMATES USED TO BU...   \n",
       "111922     0.5  Well here is my third and final rating in the ...   \n",
       "111923     1.1  beast light... the staple of any good college ...   \n",
       "111924     0.8  CHemical.... High carbonated, almost no head, ...   \n",
       "\n",
       "                     Beer_name     label MultinomialNB_label  \n",
       "0       Milwaukee's Best Light  Negative            Negative  \n",
       "1       Milwaukee's Best Light  Negative            Negative  \n",
       "2       Milwaukee's Best Light  Negative            Negative  \n",
       "3       Milwaukee's Best Light  Negative            Negative  \n",
       "4       Milwaukee's Best Light  Negative            Negative  \n",
       "...                        ...       ...                 ...  \n",
       "111920  Milwaukee's Best Light  Negative            Negative  \n",
       "111921  Milwaukee's Best Light  Negative            Negative  \n",
       "111922  Milwaukee's Best Light  Negative            Negative  \n",
       "111923  Milwaukee's Best Light  Negative            Negative  \n",
       "111924  Milwaukee's Best Light  Negative            Negative  \n",
       "\n",
       "[107941 rows x 5 columns]"
      ]
     },
     "execution_count": 45,
     "metadata": {},
     "output_type": "execute_result"
    }
   ],
   "source": [
    "unlabeled_data"
   ]
  },
  {
   "cell_type": "code",
   "execution_count": 54,
   "id": "634f4e4c",
   "metadata": {},
   "outputs": [
    {
     "data": {
      "text/plain": [
       "111925"
      ]
     },
     "execution_count": 54,
     "metadata": {},
     "output_type": "execute_result"
    }
   ],
   "source": [
    "total_df = pd.concat([unlabeled_data, df_gpt]).drop_duplicates(keep=False)\n",
    "len(total_df)"
   ]
  },
  {
   "cell_type": "code",
   "execution_count": 55,
   "id": "5a8deb1c",
   "metadata": {
    "scrolled": true
   },
   "outputs": [
    {
     "data": {
      "text/html": [
       "<div>\n",
       "<style scoped>\n",
       "    .dataframe tbody tr th:only-of-type {\n",
       "        vertical-align: middle;\n",
       "    }\n",
       "\n",
       "    .dataframe tbody tr th {\n",
       "        vertical-align: top;\n",
       "    }\n",
       "\n",
       "    .dataframe thead th {\n",
       "        text-align: right;\n",
       "    }\n",
       "</style>\n",
       "<table border=\"1\" class=\"dataframe\">\n",
       "  <thead>\n",
       "    <tr style=\"text-align: right;\">\n",
       "      <th></th>\n",
       "      <th>Rating</th>\n",
       "      <th>Review</th>\n",
       "      <th>Beer_name</th>\n",
       "      <th>label</th>\n",
       "      <th>MultinomialNB_label</th>\n",
       "    </tr>\n",
       "  </thead>\n",
       "  <tbody>\n",
       "    <tr>\n",
       "      <th>0</th>\n",
       "      <td>0.5</td>\n",
       "      <td>This is like Budlight but with slight corn tas...</td>\n",
       "      <td>Milwaukee's Best Light</td>\n",
       "      <td>Negative</td>\n",
       "      <td>Negative</td>\n",
       "    </tr>\n",
       "    <tr>\n",
       "      <th>1</th>\n",
       "      <td>1.0</td>\n",
       "      <td>Strong corn flavor. Highly carbonated and no h...</td>\n",
       "      <td>Milwaukee's Best Light</td>\n",
       "      <td>Negative</td>\n",
       "      <td>Negative</td>\n",
       "    </tr>\n",
       "    <tr>\n",
       "      <th>2</th>\n",
       "      <td>0.5</td>\n",
       "      <td>It just doesn't get worse than this. Brings me...</td>\n",
       "      <td>Milwaukee's Best Light</td>\n",
       "      <td>Negative</td>\n",
       "      <td>Negative</td>\n",
       "    </tr>\n",
       "    <tr>\n",
       "      <th>3</th>\n",
       "      <td>0.6</td>\n",
       "      <td>Beast Bleu. I shutter to think how  many cans ...</td>\n",
       "      <td>Milwaukee's Best Light</td>\n",
       "      <td>Negative</td>\n",
       "      <td>Negative</td>\n",
       "    </tr>\n",
       "    <tr>\n",
       "      <th>4</th>\n",
       "      <td>1.2</td>\n",
       "      <td>I wouldn't wish this beer on anyones glass.  T...</td>\n",
       "      <td>Milwaukee's Best Light</td>\n",
       "      <td>Negative</td>\n",
       "      <td>Negative</td>\n",
       "    </tr>\n",
       "    <tr>\n",
       "      <th>...</th>\n",
       "      <td>...</td>\n",
       "      <td>...</td>\n",
       "      <td>...</td>\n",
       "      <td>...</td>\n",
       "      <td>...</td>\n",
       "    </tr>\n",
       "    <tr>\n",
       "      <th>3995</th>\n",
       "      <td>3.8</td>\n",
       "      <td>yes, is till needed to taste this one. i taste...</td>\n",
       "      <td>Hoegaarden</td>\n",
       "      <td>Neutral</td>\n",
       "      <td>Positive</td>\n",
       "    </tr>\n",
       "    <tr>\n",
       "      <th>3996</th>\n",
       "      <td>1.6</td>\n",
       "      <td>Had this at a local all you can eat buffet.  N...</td>\n",
       "      <td>Tsingtao</td>\n",
       "      <td>Negative</td>\n",
       "      <td>Negative</td>\n",
       "    </tr>\n",
       "    <tr>\n",
       "      <th>3997</th>\n",
       "      <td>1.8</td>\n",
       "      <td>Pours a pale golden yellow color with a one fi...</td>\n",
       "      <td>Corona Light</td>\n",
       "      <td>Neutral</td>\n",
       "      <td>Negative</td>\n",
       "    </tr>\n",
       "    <tr>\n",
       "      <th>3998</th>\n",
       "      <td>3.7</td>\n",
       "      <td>Tall can.\\nCloudy yellow, with a thin white he...</td>\n",
       "      <td>Toppling Goliath King Sue</td>\n",
       "      <td>Positive</td>\n",
       "      <td>Positive</td>\n",
       "    </tr>\n",
       "    <tr>\n",
       "      <th>3999</th>\n",
       "      <td>3.7</td>\n",
       "      <td>Nice drinking weissbier. Cloudy yellow with wh...</td>\n",
       "      <td>Paulaner Hefe-Weissbier</td>\n",
       "      <td>Positive</td>\n",
       "      <td>Neutral</td>\n",
       "    </tr>\n",
       "  </tbody>\n",
       "</table>\n",
       "<p>111925 rows × 5 columns</p>\n",
       "</div>"
      ],
      "text/plain": [
       "      Rating                                             Review  \\\n",
       "0        0.5  This is like Budlight but with slight corn tas...   \n",
       "1        1.0  Strong corn flavor. Highly carbonated and no h...   \n",
       "2        0.5  It just doesn't get worse than this. Brings me...   \n",
       "3        0.6  Beast Bleu. I shutter to think how  many cans ...   \n",
       "4        1.2  I wouldn't wish this beer on anyones glass.  T...   \n",
       "...      ...                                                ...   \n",
       "3995     3.8  yes, is till needed to taste this one. i taste...   \n",
       "3996     1.6  Had this at a local all you can eat buffet.  N...   \n",
       "3997     1.8  Pours a pale golden yellow color with a one fi...   \n",
       "3998     3.7  Tall can.\\nCloudy yellow, with a thin white he...   \n",
       "3999     3.7  Nice drinking weissbier. Cloudy yellow with wh...   \n",
       "\n",
       "                      Beer_name     label MultinomialNB_label  \n",
       "0        Milwaukee's Best Light  Negative            Negative  \n",
       "1        Milwaukee's Best Light  Negative            Negative  \n",
       "2        Milwaukee's Best Light  Negative            Negative  \n",
       "3        Milwaukee's Best Light  Negative            Negative  \n",
       "4        Milwaukee's Best Light  Negative            Negative  \n",
       "...                         ...       ...                 ...  \n",
       "3995                 Hoegaarden   Neutral            Positive  \n",
       "3996                   Tsingtao  Negative            Negative  \n",
       "3997               Corona Light   Neutral            Negative  \n",
       "3998  Toppling Goliath King Sue  Positive            Positive  \n",
       "3999    Paulaner Hefe-Weissbier  Positive             Neutral  \n",
       "\n",
       "[111925 rows x 5 columns]"
      ]
     },
     "execution_count": 55,
     "metadata": {},
     "output_type": "execute_result"
    }
   ],
   "source": [
    "total_df"
   ]
  },
  {
   "cell_type": "code",
   "execution_count": 58,
   "id": "fa8c14fb",
   "metadata": {},
   "outputs": [
    {
     "data": {
      "text/plain": [
       "Negative    55934\n",
       "Positive    36897\n",
       "Neutral     19094\n",
       "Name: label, dtype: int64"
      ]
     },
     "execution_count": 58,
     "metadata": {},
     "output_type": "execute_result"
    }
   ],
   "source": [
    "total_df['label'].value_counts()"
   ]
  },
  {
   "cell_type": "code",
   "execution_count": 57,
   "id": "ace8dbaf",
   "metadata": {},
   "outputs": [],
   "source": [
    "total_df.to_csv('MultinomialNB_label.csv', index = False)"
   ]
  }
 ],
 "metadata": {
  "kernelspec": {
   "display_name": "Python 3 (ipykernel)",
   "language": "python",
   "name": "python3"
  },
  "language_info": {
   "codemirror_mode": {
    "name": "ipython",
    "version": 3
   },
   "file_extension": ".py",
   "mimetype": "text/x-python",
   "name": "python",
   "nbconvert_exporter": "python",
   "pygments_lexer": "ipython3",
   "version": "3.9.13"
  }
 },
 "nbformat": 4,
 "nbformat_minor": 5
}
